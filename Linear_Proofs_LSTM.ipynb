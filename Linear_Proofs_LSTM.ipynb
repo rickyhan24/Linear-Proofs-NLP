{
  "nbformat": 4,
  "nbformat_minor": 0,
  "metadata": {
    "accelerator": "GPU",
    "colab": {
      "name": "Linear_Proofs_LSTM.ipynb",
      "provenance": [],
      "collapsed_sections": [],
      "authorship_tag": "ABX9TyMmMsUl9CnKe84XE2CSi+mR",
      "include_colab_link": true
    },
    "kernelspec": {
      "display_name": "Python 3",
      "name": "python3"
    },
    "language_info": {
      "name": "python"
    }
  },
  "cells": [
    {
      "cell_type": "markdown",
      "metadata": {
        "id": "view-in-github",
        "colab_type": "text"
      },
      "source": [
        "<a href=\"https://colab.research.google.com/github/rickyhan24/Linear-Proofs-NLP/blob/main/Linear_Proofs_LSTM.ipynb\" target=\"_parent\"><img src=\"https://colab.research.google.com/assets/colab-badge.svg\" alt=\"Open In Colab\"/></a>"
      ]
    },
    {
      "cell_type": "markdown",
      "metadata": {
        "id": "wIjMnqqJn_OH"
      },
      "source": [
        "# **Generating the Data**"
      ]
    },
    {
      "cell_type": "code",
      "metadata": {
        "id": "MpTUriOlnxTu"
      },
      "source": [
        "#Defining a template for our proofs in prefix notation\n",
        "def prefix_proof(a:int, b:int, d:int) -> str:\n",
        "    e = \\\n",
        "f\"\"\" 0. {a} {b} {d} \n",
        " 1. = + * {a} x {b} {d} \n",
        " 2. = - + * {a} x {b} {b} - {d} {b} \n",
        " 3. = + * {a} x 0 - {d} {b} \n",
        " 4. = * {a} x - {d} {b} \n",
        " 5. = / * {a} x {a} / - {d} {b} {a} \n",
        " 6. = * {1} x / - {d} {b} {a} \n",
        " 7. = x / {d - b} {a}\"\"\"\n",
        "\n",
        "    return e"
      ],
      "execution_count": null,
      "outputs": []
    },
    {
      "cell_type": "code",
      "metadata": {
        "id": "4abAO43ttgKe"
      },
      "source": [
        "#Defining a template for our proofs in infix notation\n",
        "def infix_proof(a:int, b:int, d:int) -> str:\n",
        "    e = \\\n",
        "    f\"\"\"0. {a} {b} {d}\n",
        " 1. {a} * x + {b} = {d}\\tGiven\n",
        " 2. {a} * x + {b} - {b} = {d} - {b}\\tSubtraction Property of Equality\n",
        " 3. {a} * x + 0 = {d} - {b}\\tAdditive Inverse\n",
        " 4. {a} * x = {d} - {b}\\tAdditive identity\n",
        " 5. {a} * x / {a} = ( {d} - {b} ) / {a}\\tDivision Property of Equality a != 0\n",
        " 6. {1} * x = ( {d} - {b} ) / {a}\\tMultiplicative Inverses\n",
        " 7. x = ( {d} - {b} ) / {a}\\tMultiplicative Identity\n",
        " 8. x = ( {d} - {b} ) / {a}\\tCanonical Equivalent Equation\"\"\"\n",
        "    return e"
      ],
      "execution_count": null,
      "outputs": []
    },
    {
      "cell_type": "code",
      "metadata": {
        "id": "EIXGWfvERV1C"
      },
      "source": [
        "#Defining the proof generator that will generate lots of proofs\n",
        "def proof_generator(na=2, nb=2, nc=2):\n",
        "    \n",
        "    for a in range(1, na):\n",
        "        for b in range(1, nb):\n",
        "            for d in range(1, nc):\n",
        "                p = infix_proof(a, b, d)\n",
        "#                 print(p)\n",
        "#                 print()\n",
        "                yield p + ' \\n\\n'"
      ],
      "execution_count": null,
      "outputs": []
    },
    {
      "cell_type": "code",
      "metadata": {
        "id": "8ezkVJ_kn2t7"
      },
      "source": [
        "#Creating a list of a bunch of proofs\n",
        "proof_lines = []\n",
        "for proof in proof_generator(11,11,11):\n",
        "    proof_lines.append(proof)"
      ],
      "execution_count": null,
      "outputs": []
    },
    {
      "cell_type": "markdown",
      "metadata": {
        "id": "O1WxQgZZoWq-"
      },
      "source": [
        "# **Data Preprocessing**"
      ]
    },
    {
      "cell_type": "code",
      "metadata": {
        "id": "9e23gQdPoTPB"
      },
      "source": [
        "#Importing tensorflow\n",
        "import tensorflow as tf\n"
      ],
      "execution_count": null,
      "outputs": []
    },
    {
      "cell_type": "code",
      "metadata": {
        "id": "F3yPTuZFohZh"
      },
      "source": [
        "#Importing libraries and dependencies\n",
        "from tensorflow.keras.preprocessing.sequence import pad_sequences\n",
        "from tensorflow.keras.preprocessing.text import Tokenizer\n",
        "import tensorflow.keras.utils as ku\n",
        "import numpy as np"
      ],
      "execution_count": null,
      "outputs": []
    },
    {
      "cell_type": "code",
      "metadata": {
        "id": "sbibZMjtomVm"
      },
      "source": [
        "#Assigning tokens to each math symbol, newline symbol, step number, and double newline symbol in our dataset of proofs\n",
        "tokenizer = Tokenizer(filters='')\n",
        "tokenizer.fit_on_texts(proof_lines, )\n",
        "total_words = len(tokenizer.word_index) + 1 #Adding 1 for the 0 in padding"
      ],
      "execution_count": null,
      "outputs": []
    },
    {
      "cell_type": "code",
      "metadata": {
        "id": "5oFI_sb4l2Zb"
      },
      "source": [
        "#Creating a list of tokenized n-grams from each proof\n",
        "proof_line_encodings = []\n",
        "for proof_line in proof_lines:\n",
        "    proof_line_tokens = tokenizer.texts_to_sequences([proof_line])[0]\n",
        "    for n in range(1, len(proof_line_tokens)):\n",
        "        n_gram_tokens = proof_line_tokens[:n + 1]\n",
        "        proof_line_encodings.append(n_gram_tokens)\n",
        "\n",
        "#Padding the tokenized n-grams with max length equal to maximum length of all proofs\n",
        "max_line_proof_encoding_len = max([len(proof_line_encoding) for proof_line_encoding in proof_line_encodings])\n",
        "padded_proof_line_encodings = np.array(pad_sequences(proof_line_encodings, maxlen=max_line_proof_encoding_len, padding='pre'))\n",
        "\n",
        "#Defining predictors as tokens of n-grams except last token and label as the last token\n",
        "predictors, label = padded_proof_line_encodings[:,:-1], padded_proof_line_encodings[:,-1]\n",
        "\n",
        "#One-hot-encoding the label with respect to vocabulary of tokens\n",
        "label = ku.to_categorical(label, num_classes=total_words)"
      ],
      "execution_count": null,
      "outputs": []
    },
    {
      "cell_type": "code",
      "metadata": {
        "id": "w5sU2m-7FeFE"
      },
      "source": [
        "#Splitting the predictors and label sets into training and test sets\n",
        "from sklearn.model_selection import train_test_split\n",
        "predictors_train, predictors_test, label_train, label_test = train_test_split(predictors, label, test_size=0.2, random_state = 4)"
      ],
      "execution_count": null,
      "outputs": []
    },
    {
      "cell_type": "code",
      "metadata": {
        "id": "TNWO8fHzFzjL"
      },
      "source": [
        "#Finding the unique tokens in the predictors_train and the unique tokens in predictors_test and seeing if any tokens lie in their symmetric difference\n",
        "array_train = np.array([],dtype='int32')\n",
        "for i in range(0,len(predictors_train)):\n",
        "  array_train = np.append(array_train,predictors_train[i])\n",
        "\n",
        "array_test = np.array([],dtype='int32')\n",
        "for i in range(0,len(predictors_test)):\n",
        "  array_test = np.append(array_test,predictors_test[i])\n",
        "\n",
        "set(array_train).symmetric_difference(set(array_test))"
      ],
      "execution_count": null,
      "outputs": []
    },
    {
      "cell_type": "markdown",
      "metadata": {
        "id": "UFMozF-tEAmF"
      },
      "source": [
        "# **Building the Model**"
      ]
    },
    {
      "cell_type": "code",
      "metadata": {
        "id": "ZaNmxcthENrM"
      },
      "source": [
        "#Importing libraries and dependencies\n",
        "from tensorflow.keras.layers import Embedding, LSTM, Dense, Dropout, Bidirectional\n",
        "from tensorflow.keras.models import Sequential\n",
        "from tensorflow.keras.optimizers import Adam\n",
        "from tensorflow.keras import regularizers"
      ],
      "execution_count": null,
      "outputs": []
    },
    {
      "cell_type": "code",
      "metadata": {
        "id": "Ig_XJl9wqARt"
      },
      "source": [
        "#Building the model\n",
        "\n",
        "input_length = predictors.shape[1]\n",
        "\n",
        "model = Sequential([\n",
        "    Embedding(total_words, 128, input_length=input_length),\n",
        "    Bidirectional(LSTM(128, return_sequences=True)),\n",
        "    Dropout(0.2),\n",
        "    LSTM(128),\n",
        "    Dense(total_words/2, activation='relu', kernel_regularizer=regularizers.l2(0.01)),\n",
        "    Dense(total_words, activation='softmax'),\n",
        "])"
      ],
      "execution_count": null,
      "outputs": []
    },
    {
      "cell_type": "code",
      "metadata": {
        "id": "Zz9yQ1MWqHqr"
      },
      "source": [
        "#Compiling the model\n",
        "\n",
        "model.compile(loss='categorical_crossentropy', optimizer='adam', metrics=['accuracy'])\n",
        "print(model.summary())"
      ],
      "execution_count": null,
      "outputs": []
    },
    {
      "cell_type": "code",
      "metadata": {
        "id": "Ayk7768ZqKD7"
      },
      "source": [
        "# 40 epochs\n",
        "history = model.fit(predictors_train, label_train, epochs=15, verbose=1)"
      ],
      "execution_count": null,
      "outputs": []
    },
    {
      "cell_type": "code",
      "metadata": {
        "colab": {
          "base_uri": "https://localhost:8080/",
          "height": 545
        },
        "id": "23TOba33L4qf",
        "outputId": "6dc91927-abb2-4790-ed18-6332cff4dffa"
      },
      "source": [
        "#Plotting the accuracy and loss curves\n",
        "\n",
        "import matplotlib.pyplot as plt\n",
        "acc = history.history['accuracy']\n",
        "loss = history.history['loss']\n",
        "\n",
        "epochs = range(len(acc))\n",
        "\n",
        "plt.plot(epochs, acc, 'b', label='Training accuracy')\n",
        "plt.title('Training accuracy')\n",
        "\n",
        "plt.figure()\n",
        "\n",
        "plt.plot(epochs, loss, 'b', label='Training Loss')\n",
        "plt.title('Training loss')\n",
        "plt.legend()\n",
        "\n",
        "plt.show()"
      ],
      "execution_count": null,
      "outputs": [
        {
          "output_type": "display_data",
          "data": {
            "image/png": "[encoded data removed]",
            "text/plain": [
              "<Figure size 432x288 with 1 Axes>"
            ]
          },
          "metadata": {
            "tags": []
          }
        },
        {
          "output_type": "display_data",
          "data": {
            "image/png": "[encoded data removed]",
            "text/plain": [
              "<Figure size 432x288 with 1 Axes>"
            ]
          },
          "metadata": {
            "tags": []
          }
        }
      ]
    },
    {
      "cell_type": "code",
      "metadata": {
        "colab": {
          "base_uri": "https://localhost:8080/"
        },
        "id": "ANtd9O3KLzMw",
        "outputId": "a301edc0-9b22-4de7-f8aa-50608165c857"
      },
      "source": [
        "#Finding the test accuracy\n",
        "predicted_indices = ku.to_categorical(np.argmax(model.predict(predictors_test), axis=-1), num_classes=total_words)\n",
        "num_correct = 0\n",
        "for i in range(0,len(label_test)) :\n",
        "  if all(predicted_indices[i] == label_test[i]):\n",
        "    num_correct +=1\n",
        "print(f'{(num_correct/len(label_test))*100}'+'% accuracy')"
      ],
      "execution_count": null,
      "outputs": [
        {
          "output_type": "stream",
          "text": [
            "97.3252427184466% accuracy\n"
          ],
          "name": "stdout"
        }
      ]
    },
    {
      "cell_type": "code",
      "metadata": {
        "id": "HYjMZDAqFT0S"
      },
      "source": [
        "#Saving the model\n",
        "model.save('linear_proofs_lstm_model_train_test_split_97percent.h5')\n",
        "\n",
        "#Saving tokenizer\n",
        "from pickle import dump, load\n",
        "dump(tokenizer, open('my_tokenizer','wb'))"
      ],
      "execution_count": null,
      "outputs": []
    },
    {
      "cell_type": "code",
      "metadata": {
        "id": "pDnIWzYfKkLY"
      },
      "source": [
        "#Using a saved model and tokenizer\n",
        "from pickle import dump, load\n",
        "from keras.models import load_model\n",
        "model = load_model('linear_proofs_lstm_model_train_test_split.h5')\n",
        "#tokenizer = load(open('my_tokenizer','rb'))"
      ],
      "execution_count": null,
      "outputs": []
    },
    {
      "cell_type": "markdown",
      "metadata": {
        "id": "0UYRMeqnExIt"
      },
      "source": [
        "# **Applying the Model to Generate Text**"
      ]
    },
    {
      "cell_type": "code",
      "metadata": {
        "id": "IXOuvo1YSJZf"
      },
      "source": [
        "#Defining a function that generates the next num_next_words words of the proof given a seed_text\n",
        "def generate_text(model,tokenizer,input_length,seed_text, num_next_words):\n",
        "  \n",
        "    for _ in range(num_next_words):\n",
        "\n",
        "      encoded_text = tokenizer.texts_to_sequences([seed_text])[0]\n",
        "      pad_encoded_text = pad_sequences([encoded_text], maxlen=input_length, padding='pre')\n",
        "      predicted_index = np.argmax(model.predict(pad_encoded_text), axis=-1)[0]\n",
        "      predicted_word = tokenizer.index_word[predicted_index]\n",
        "      seed_text += \" \" + predicted_word\n",
        "    \n",
        "    return seed_text"
      ],
      "execution_count": null,
      "outputs": []
    },
    {
      "cell_type": "code",
      "metadata": {
        "colab": {
          "base_uri": "https://localhost:8080/"
        },
        "id": "X_deaiezSTkV",
        "outputId": "1e28fce7-5b66-479b-fa21-b5a64a238185"
      },
      "source": [
        "#Specifying the number of first words and the number of next words\n",
        "num_first_words = 12\n",
        "num_next_words = max_line_proof_encoding_len-num_first_words\n",
        "input_length = predictors.shape[1]\n",
        "#Joining via space the first num_first_words words of a proof to create the seed_text\n",
        "seed_text = ' '.join(proof_lines[987].split(' ')[:num_first_words])\n",
        "\n",
        "#Generating the rest of the proof given the seed_text and number of next words\n",
        "print(generate_text(model,tokenizer,input_length,seed_text, num_next_words))"
      ],
      "execution_count": null,
      "outputs": [
        {
          "output_type": "stream",
          "text": [
            "0. 10 9 8\n",
            " 1. 10 * x + 9 = 8\tGiven\n",
            " 2. 10 * x + 9 - 9 = 8 - 9\tsubtraction property of equality\n",
            " 3. 10 * x + 0 = 8 - 9\tadditive inverse\n",
            " 4. 10 * x = 8 - 9\tadditive identity\n",
            " 5. 10 * x / 10 = ( 8 - 9 ) / 10\tdivision property of equality a != 0\n",
            " 6. 1 * x = ( 8 - 9 ) / 10\tmultiplicative inverses\n",
            " 7. x = ( 8 - 9 ) / 10\tmultiplicative identity\n",
            " 8. x = ( 8 - 9 ) / 10\tcanonical equivalent equation \n",
            "\n",
            "\n"
          ],
          "name": "stdout"
        }
      ]
    },
    {
      "cell_type": "code",
      "metadata": {
        "id": "wlzx8oSpMDMo"
      },
      "source": [
        "#Creating a dictionary of problem/proof pairs\n",
        "dictionary = {}\n",
        "\n",
        "for i in range(0,1000):\n",
        "  seed_text = ' '.join(proof_lines[i].split(' ')[:num_first_words])\n",
        "  dictionary[proof_lines[i]]=generate_text(model,tokenizer,input_length,seed_text, num_next_words)"
      ],
      "execution_count": null,
      "outputs": []
    },
    {
      "cell_type": "code",
      "metadata": {
        "id": "TObbAzfVhiHE"
      },
      "source": [
        "#Saving the dictionary\n",
        "from pickle import dump, load\n",
        "file_to_write = open(\"dictionary.pickle\", \"wb\")\n",
        "dump(dictionary, file_to_write)\n"
      ],
      "execution_count": null,
      "outputs": []
    },
    {
      "cell_type": "code",
      "metadata": {
        "id": "DK0hDeZmjkw7"
      },
      "source": [
        "#Loading the dictionary\n",
        "loaded_dictionary = load( open( \"dictionary.pickle\", \"rb\" ) )\n"
      ],
      "execution_count": null,
      "outputs": []
    },
    {
      "cell_type": "code",
      "metadata": {
        "colab": {
          "base_uri": "https://localhost:8080/"
        },
        "id": "R3yXZs7EHEmU",
        "outputId": "36d0482f-c2e1-417e-c20e-a6bf4c020fc4"
      },
      "source": [
        "#Counting the number of correct proofs by comparing the key/value pairs in the dictionary\n",
        "num_correct = 0\n",
        "\n",
        "for proof_line in proof_lines:\n",
        "\n",
        "  if proof_line.lower() == dictionary[proof_line].lower():\n",
        "      num_correct +=1\n",
        "\n",
        "print(f'{(num_correct/len(proof_lines))*100}'+'% accuracy')"
      ],
      "execution_count": null,
      "outputs": [
        {
          "output_type": "stream",
          "text": [
            "100.0% accuracy\n"
          ],
          "name": "stdout"
        }
      ]
    },
    {
      "cell_type": "code",
      "metadata": {
        "id": "F67SQwlfzSLX"
      },
      "source": [
        ""
      ],
      "execution_count": null,
      "outputs": []
    }
  ]
}